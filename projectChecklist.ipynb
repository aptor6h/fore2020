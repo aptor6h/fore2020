{
  "nbformat": 4,
  "nbformat_minor": 0,
  "metadata": {
    "colab": {
      "name": "projectChecklist.ipynb",
      "provenance": [],
      "collapsed_sections": [
        "n97jRPu2jwKT",
        "rg9ijyJdkyOR",
        "_OWr6Ta8k3px",
        "IsZoys0Dk8FD",
        "BEAVb71vlDsH",
        "MXmC_jBilIEK",
        "lvdrYnLElNlM",
        "qjDHLFuhlRZi"
      ]
    },
    "kernelspec": {
      "name": "python3",
      "display_name": "Python 3"
    }
  },
  "cells": [
    {
      "cell_type": "markdown",
      "metadata": {
        "id": "hsn_SA-OjfDF",
        "colab_type": "text"
      },
      "source": [
        "There are 8 main steps:\n",
        "\n",
        "1.   Frame the problem and look at the big picture\n",
        "2.   Get the data\n",
        "3.   Explore teh data to gain insights\n",
        "4.   Prepare the data to better expose the underlying data patterns to machine learning algorithms\n",
        "5.   Explore many different models and short-list the best ones\n",
        "6.   Fine tune your models and combine them into a better solution\n",
        "7.   Present your solution\n",
        "8.   Launch, monitor, and maintain your system\n",
        "\n",
        "Now let's look look into each of these steps:\n",
        "\n",
        "\n"
      ]
    },
    {
      "cell_type": "markdown",
      "metadata": {
        "id": "n97jRPu2jwKT",
        "colab_type": "text"
      },
      "source": [
        "# Frame the problem and look at the big picture"
      ]
    },
    {
      "cell_type": "markdown",
      "metadata": {
        "id": "DPuFimC1lncx",
        "colab_type": "text"
      },
      "source": [
        "* Define the objective in business terms \n",
        "* How will your solution be used\n",
        "* What are the current solutions/workarounds? \n",
        "* How should you frame this problem? Supervised? Unsupervised? \n",
        "* How should the performance be measured?\n",
        "* Is the performance measure aligned with the business objective?\n",
        "* What would be the minimum performance needed to reach the business objective?\n",
        "* What are comparable problems? Can you reuse experience or tools?\n",
        "* Is human expertise available?\n",
        "* How would you solve this problem manually?\n",
        "* List the assumptions youy or the others have made so far?\n",
        "* Verify assumptions, if possible.\n"
      ]
    },
    {
      "cell_type": "markdown",
      "metadata": {
        "id": "rg9ijyJdkyOR",
        "colab_type": "text"
      },
      "source": [
        "# Get the data"
      ]
    },
    {
      "cell_type": "markdown",
      "metadata": {
        "id": "FyYOZRhjmrm_",
        "colab_type": "text"
      },
      "source": [
        "***Automate as much as possible so you can easily get fresh data.***\n",
        "\n",
        "* List the data you need and how much you need\n",
        "* Find and document where you can get that data\n",
        "* Check how much sapce it will take\n",
        "* Check legal obligations, and get authorizations if necessary\n",
        "* Get access authorizations\n",
        "* Create a workspace (with enough storage)\n",
        "* Get the data\n",
        "* Convert the data to a format you can easily manipulate (without changing the data itself)\n",
        "* Ensure sensitive information is deleted or protected (anonymized)\n",
        "* Check the size and type of data (time series, sample, geographical, etc.)\n",
        "* Sample a test set, put it aside and never look at it \n"
      ]
    },
    {
      "cell_type": "markdown",
      "metadata": {
        "id": "_OWr6Ta8k3px",
        "colab_type": "text"
      },
      "source": [
        "# Explore the data to gain insights"
      ]
    },
    {
      "cell_type": "markdown",
      "metadata": {
        "id": "4fE7eUPan2rY",
        "colab_type": "text"
      },
      "source": [
        "***Try to get insights from a subject matter expert as much as possible for these steps***\n",
        "\n",
        "* Create a copy of the data for exploration (sampling down to a manageable size if necessary)\n",
        "* Use a Jupyter notebook to keep record of your data exploration\n",
        "* Study each attribute and its characteristics:\n",
        "      * Name\n",
        "      * Type (categorical, int/float, bounded/unbounded, text, structured, etc.)\n",
        "      * % of missing values\n",
        "      * Noisiness and type of noise (stochastic, outliers, rounding errors, etc.)\n",
        "      * Is it useful for the task?\n",
        "      * Type of distribution (Gaussian, uniform, logarithmic, etc.)\n",
        "\n",
        "* For supervised learning tasks, identify the target attribute\n",
        "* Visualize the data\n",
        "* Study the correlations between attributes\n",
        "* Study how you would solve the problem manually\n",
        "* Identify promising transformations you may want to apply\n",
        "* Identify extra data that would be useful\n",
        "* Document what you have learned.\n"
      ]
    },
    {
      "cell_type": "markdown",
      "metadata": {
        "id": "IsZoys0Dk8FD",
        "colab_type": "text"
      },
      "source": [
        "# Prepare the data to better expose the underlying data patterns to machine learning algorithms\n"
      ]
    },
    {
      "cell_type": "markdown",
      "metadata": {
        "id": "EWSltGSOpqEx",
        "colab_type": "text"
      },
      "source": [
        "***Work on copies of the data (keep the original dataset intact)***\n",
        "\n",
        "***Write functions for all data transformations in future projects***\n",
        "\n",
        "***-  So you can easily prepare data when you get a fresh dataset***\n",
        "\n",
        "***-  So you can apply these transformations in future projects***\n",
        "\n",
        "***-  To clean and prepare the test set***\n",
        "\n",
        "***-  To clean and prepare new data instances once your solution is live***\n",
        "\n",
        "***-  To make it easy to treat your preparation choices as hyperparameters***\n",
        "\n",
        "1. Data Cleaning\n",
        "        Fix or remove outliers\n",
        "        Fill in missing values (with zero, mean, median, ...) or drop their rows (or columns)\n",
        "\n",
        "2. Feature Selection\n",
        "        Drop the attributes that provide no useful information for the task\n",
        "3. Feature Engineering\n",
        "        Discretize continuous features\n",
        "        Decompose features (categorical, date/time, etc.)\n",
        "        Add promising tranformations of features (log- , sqrt-, etc)\n",
        "        Aggregate features into promising new features\n",
        "4. Feature Scaling: Standardize or normalize features\n",
        "\n",
        "\n",
        "\n"
      ]
    },
    {
      "cell_type": "markdown",
      "metadata": {
        "id": "BEAVb71vlDsH",
        "colab_type": "text"
      },
      "source": [
        "# Explore many different models and short-list the best ones"
      ]
    },
    {
      "cell_type": "markdown",
      "metadata": {
        "id": "QhibS2Lnr7wo",
        "colab_type": "text"
      },
      "source": [
        "***If the dataset is huge, you may want to sample samller training sets so you can train many different models in a reasonable time (be aware, though, this penalizes complex models such as large neural networks or random forests)***\n",
        "\n",
        "***Try to automate these steps as much as possible.***\n",
        "\n",
        "1. Train many quick and dirty models from different categories (linear, naive bayes, support vector machines, random forests, neural networks, etc.) using default parameters\n",
        "2. Measure and compare their performance\n",
        "        For each model, use kFold cross validation and compute the mean and standard deviation of the performance measure on each of the k-folds\n",
        "3. Analyze the most significant variables for each algorithm\n",
        "4. Analyze the types of errors the models make\n",
        "        What data would a human have used to avoid these errors?\n",
        "5. Have a quick round of feature selection and engineering\n",
        "6. Have one or more quick iterations of the five previous steps \n",
        "7. Short list the top 3-5 most promising models, preferring models taht make different types of errors\n",
        "\n",
        "\n",
        "\n"
      ]
    },
    {
      "cell_type": "markdown",
      "metadata": {
        "id": "MXmC_jBilIEK",
        "colab_type": "text"
      },
      "source": [
        "# Fine tune your models and combine them into a better solution"
      ]
    },
    {
      "cell_type": "markdown",
      "metadata": {
        "id": "YbMaZCTZti7a",
        "colab_type": "text"
      },
      "source": [
        "***You wil want to use as much data s possible for this step, especially as you move toward the end of fine tuning***\n",
        "\n",
        "\n",
        "***As always automate what you can***\n",
        "\n",
        "1. Fine tune the hyperparameters using cross validation\n",
        "        Treat your data transformation choices as hyperparameters, especially when you are not sure about them? Should I replace missiing values with zero or with the median value? Or just drop the row?\n",
        "        Unless there are very few hyperparameter values to explore, prefer a random search over grid search. If training is very long, you may prefer a Bayesian optimization approach\n",
        "2. Try ensemble methods. Combining your best models willoften perform better than running them individually.\n",
        "3. Once you are confident about your final model, measure its performance on the test set that you had set aside to estimate the generalization error.\n",
        "\n",
        "`Do not tweak your model after measuring the generalization error: you would just start overfitting the test set.`\n",
        "\n"
      ]
    },
    {
      "cell_type": "markdown",
      "metadata": {
        "id": "lvdrYnLElNlM",
        "colab_type": "text"
      },
      "source": [
        "# Present your solution"
      ]
    },
    {
      "cell_type": "markdown",
      "metadata": {
        "id": "aH_mRTqCvBiJ",
        "colab_type": "text"
      },
      "source": [
        "1. Document what you have done\n",
        "2. Create a nice presentation\n",
        "        Make sure you highlight the big picture first\n",
        "3. Explain why your solution achieves the business objective\n",
        "4. Dont forget to present interesting points you notices along the way\n",
        "        Describe what worked and what did not\n",
        "        List your assumptions and your system's limitations\n",
        "5. Ensure your key findings are communicated through visualizations or easy-to-remember statements \n",
        "        'The median income in the area is teh number one predictor of the housing prices'\n"
      ]
    },
    {
      "cell_type": "markdown",
      "metadata": {
        "id": "qjDHLFuhlRZi",
        "colab_type": "text"
      },
      "source": [
        "# Launch, monitor, and maintain your system"
      ]
    },
    {
      "cell_type": "markdown",
      "metadata": {
        "id": "Gzala6ZAvxD6",
        "colab_type": "text"
      },
      "source": [
        "1. Get your solutions ready for production (plug into production data inputs, write unit tests, etc.)\n",
        "2. Write monitoring code to check your systems's live performance at regular intervals and trigger alerts when it drops\n",
        "        Beware of slow degradation too: models tend to 'rot' as data evolves\n",
        "        Measuring performance may require a human pipeline (ex: crowdsourcing service)\n",
        "        Monitor your inputs' quality (ex: malfunctioning sensor sending random values, or another team's outpput is becomin stale). This is particularly important for online learnign systems\n",
        "3. Retrain your models on a regular basis on fresh data 9automate as much as possible)\n"
      ]
    },
    {
      "cell_type": "code",
      "metadata": {
        "id": "722VfO96lT8w",
        "colab_type": "code",
        "colab": {}
      },
      "source": [
        ""
      ],
      "execution_count": 0,
      "outputs": []
    }
  ]
}